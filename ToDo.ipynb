{
 "cells": [
  {
   "cell_type": "markdown",
   "metadata": {},
   "source": []
  },
  {
   "cell_type": "markdown",
   "metadata": {},
   "source": [
    "### 9/12\n",
    "- 모델에 안저 데이터 적용"
   ]
  },
  {
   "cell_type": "markdown",
   "metadata": {},
   "source": [
    "### 9/13\n",
    "- 학습셋 테스트셋 분류"
   ]
  },
  {
   "cell_type": "markdown",
   "metadata": {},
   "source": [
    "### 9/14\n",
    "- 데이터 불균형 처리 어떻게 할 것인가.\n",
    "    - 일단 너무 어둡거나 굴절이 심해 무지개가 보이는 사진은 과감히 삭제\n",
    "    - 테스트 데이터셋이 심각하게 적음. -> 테스트 데이터 하나를 90도씩 360도 돌려 하나의 이미지에서 네 개의 이미지를 생성\n",
    "    - 하지만 한 폴더의 이미지(0 || 1 || 2)만 회전할 경우 신경망이 특징을 다른 곳에 잡을 확률이 있음.\n",
    "    - **결론 : 0, 1, 2 모든 폴더의 이미지만 돌린다.**"
   ]
  },
  {
   "cell_type": "markdown",
   "metadata": {},
   "source": []
  }
 ],
 "metadata": {
  "language_info": {
   "name": "python"
  },
  "orig_nbformat": 4
 },
 "nbformat": 4,
 "nbformat_minor": 2
}
